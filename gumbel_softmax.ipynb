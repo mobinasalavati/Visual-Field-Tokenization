{
 "cells": [
  {
   "cell_type": "code",
   "execution_count": 1,
   "id": "0f8c4763-f44a-453c-b5a1-9ed06fcdf017",
   "metadata": {},
   "outputs": [],
   "source": [
    "import json\n",
    "import numpy as np\n",
    "import torch\n",
    "import torch.nn.functional as F"
   ]
  },
  {
   "cell_type": "code",
   "execution_count": 3,
   "id": "a859af5b-da5b-4ce2-a9e1-74c19a6c629b",
   "metadata": {},
   "outputs": [],
   "source": [
    "def load_json(file_path):\n",
    "    # Open the JSON file and load its content\n",
    "    with open(file_path, 'r') as f:\n",
    "        data = json.load(f)['data']  # Assume relevant data is under the 'data' key\n",
    "\n",
    "    # Extract visual field matrices from all patients and both eyes\n",
    "    X = [\n",
    "        np.array(session['hvf']).flatten()  # Flatten each matrix to a 1D vector\n",
    "        for patient_id in data\n",
    "        for eye in ['R', 'L']  # Process both right and left eyes\n",
    "        if eye in data[patient_id]  # Check if data for the eye exists\n",
    "        for session in data[patient_id][eye]  # Extract sessions for the given eye\n",
    "    ]\n",
    "\n",
    "    # Convert the list of vectors to a NumPy array\n",
    "    X = np.array(X)\n",
    "    print(f\"Loaded dataset with shape: {X.shape}\")  # Log the shape of the dataset\n",
    "    return X"
   ]
  },
  {
   "cell_type": "code",
   "execution_count": 5,
   "id": "571eed4b-1f36-4559-af76-07c01022a60a",
   "metadata": {},
   "outputs": [],
   "source": [
    "def gumbel_softmax(logits, temperature=1.0):\n",
    "    # Generate Gumbel noise with the same shape as logits\n",
    "    gumbel_noise = -torch.log(-torch.log(torch.rand_like(logits)))\n",
    "\n",
    "    # Add noise to the logits and apply softmax normalization\n",
    "    y = (logits + gumbel_noise) / temperature\n",
    "\n",
    "    # Return normalized probabilities\n",
    "    return F.softmax(y, dim=-1)"
   ]
  },
  {
   "cell_type": "code",
   "execution_count": 7,
   "id": "54fd02c5-fdec-4d36-8455-d329a4fcb84f",
   "metadata": {},
   "outputs": [
    {
     "name": "stdout",
     "output_type": "stream",
     "text": [
      "Loaded dataset with shape: (28943, 72)\n",
      "Discrete Data (Gumbel-Softmax Output): tensor([[1.2506e-01, 9.0049e-02, 1.6940e-02,  ..., 0.0000e+00, 1.7471e-02,\n",
      "         7.5672e-03],\n",
      "        [1.3855e-03, 1.2340e-03, 2.7843e-05,  ..., 0.0000e+00, 1.3842e-04,\n",
      "         6.2672e-05],\n",
      "        [3.5049e-04, 1.4990e-05, 1.9932e-04,  ..., 0.0000e+00, 2.4023e-05,\n",
      "         3.9524e-06],\n",
      "        ...,\n",
      "        [3.7879e-03, 2.2456e-02, 3.6819e-02,  ..., 0.0000e+00, 2.5020e-03,\n",
      "         1.3046e-02],\n",
      "        [1.1567e-03, 1.3408e-04, 9.4672e-04,  ..., 0.0000e+00, 1.0159e-02,\n",
      "         1.0214e-02],\n",
      "        [9.3732e-02, 7.0110e-03, 7.3696e-02,  ..., 0.0000e+00, 2.4426e-04,\n",
      "         1.4998e-02]])\n"
     ]
    }
   ],
   "source": [
    "if __name__ == \"__main__\":\n",
    "    # Load data from a JSON file\n",
    "    data = load_json('alldata.json')\n",
    "\n",
    "    # Convert the loaded data to a PyTorch tensor\n",
    "    logits = torch.tensor(data, dtype=torch.float32)\n",
    "\n",
    "    # Apply Gumbel-Softmax to get discrete samples\n",
    "    discrete_data = gumbel_softmax(logits, temperature=0.5)\n",
    "\n",
    "    # Print the discrete data\n",
    "    print(\"Discrete Data (Gumbel-Softmax Output):\", discrete_data)"
   ]
  },
  {
   "cell_type": "code",
   "execution_count": null,
   "id": "ccb275f7-3030-423e-872d-059960e36589",
   "metadata": {},
   "outputs": [],
   "source": []
  }
 ],
 "metadata": {
  "kernelspec": {
   "display_name": "Python 3 (ipykernel)",
   "language": "python",
   "name": "python3"
  },
  "language_info": {
   "codemirror_mode": {
    "name": "ipython",
    "version": 3
   },
   "file_extension": ".py",
   "mimetype": "text/x-python",
   "name": "python",
   "nbconvert_exporter": "python",
   "pygments_lexer": "ipython3",
   "version": "3.12.4"
  }
 },
 "nbformat": 4,
 "nbformat_minor": 5
}
